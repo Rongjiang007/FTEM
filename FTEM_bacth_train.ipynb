{
 "cells": [
  {
   "cell_type": "code",
   "execution_count": 62,
   "id": "4c82eaa9",
   "metadata": {},
   "outputs": [],
   "source": [
    "import tensorflow as tf\n",
    "from tensorflow.keras.layers import Input, Conv2D, MaxPooling2D, Dropout, Conv2DTranspose, concatenate,BatchNormalization\n",
    "from tensorflow.keras import optimizers\n",
    "from tensorflow.keras.callbacks import Callback\n",
    "\n",
    "def unet(height, width):\n",
    "    input_shape = (height, width, 6)\n",
    "    inputs = Input(input_shape)\n",
    "\n",
    "    conv1 = Conv2D(64, (3, 3), activation='relu', padding='same')(inputs)\n",
    "    conv1 = BatchNormalization()(conv1)\n",
    "    conv1 = Conv2D(64, (3, 3), activation='relu', padding='same')(conv1)\n",
    "    conv1 = BatchNormalization()(conv1)\n",
    "    pool1 = MaxPooling2D(pool_size=(2, 2))(conv1)\n",
    "\n",
    "    conv2 = Conv2D(128, (3, 3), activation='relu', padding='same')(pool1)\n",
    "    conv2 = BatchNormalization()(conv2)\n",
    "    conv2 = Conv2D(128, (3, 3), activation='relu', padding='same')(conv2)\n",
    "    conv2 = BatchNormalization()(conv2)\n",
    "    pool2 = MaxPooling2D(pool_size=(2, 2))(conv2)\n",
    "\n",
    "    conv3 = Conv2D(256, (3, 3), activation='relu', padding='same')(pool2)\n",
    "    conv3 = BatchNormalization()(conv3)\n",
    "    conv3 = Conv2D(256, (3, 3), activation='relu', padding='same')(conv3)\n",
    "    conv3 = BatchNormalization()(conv3)\n",
    "    pool3 = MaxPooling2D(pool_size=(2, 2))(conv3)\n",
    "\n",
    "    # Bottleneck\n",
    "    conv4 = Conv2D(512, (3, 3), activation='relu', padding='same')(pool3)\n",
    "    conv4 = BatchNormalization()(conv4)\n",
    "    conv4 = Conv2D(512, (3, 3), activation='relu', padding='same')(conv4)\n",
    "    conv4 = BatchNormalization()(conv4)\n",
    "\n",
    "    # Decoder\n",
    "    up5 = Conv2DTranspose(256, (3, 3), strides=(2, 2), padding='same')(conv4)\n",
    "    merge5 = concatenate([conv3, up5], axis=3)\n",
    "    conv5 = Conv2D(256, (3, 3), activation='relu', padding='same')(merge5)\n",
    "    conv5 = BatchNormalization()(conv5)\n",
    "    conv5 = Conv2D(256, (3, 3), activation='relu', padding='same')(conv5)\n",
    "    conv5 = BatchNormalization()(conv5)\n",
    "\n",
    "    up6 = Conv2DTranspose(128, (3, 3), strides=(2, 2), padding='same')(conv5)\n",
    "    merge6 = concatenate([conv2, up6], axis=3)\n",
    "    conv6 = Conv2D(128, (3, 3), activation='relu', padding='same')(merge6)\n",
    "    conv6 = BatchNormalization()(conv6)\n",
    "    conv6 = Conv2D(128, (3, 3), activation='relu', padding='same')(conv6)\n",
    "    conv6 = BatchNormalization()(conv6)\n",
    "    \n",
    "    \n",
    "    up7 = Conv2DTranspose(64, (3, 3), strides=(2, 2), padding='same')(conv6)\n",
    "    merge7 = concatenate([conv1, up7], axis=3)\n",
    "    conv7 = Conv2D(64, (3, 3), activation='relu', padding='same')(merge7)\n",
    "    conv7 = BatchNormalization()(conv7)\n",
    "    conv7 = Conv2D(64, (3, 3), activation='relu', padding='same')(conv7)\n",
    "    conv7 = BatchNormalization()(conv7)\n",
    "    conv7 = Conv2D(32, (3, 3), activation='relu', padding='same')(conv7)\n",
    "    conv7 = BatchNormalization()(conv7)\n",
    "    conv7 = Conv2D(16, (3, 3), activation='relu', padding='same')(conv7)\n",
    "    conv7 = BatchNormalization()(conv7)\n",
    "    output = Conv2D(2, (1,1), activation='sigmoid')(conv7)\n",
    "    \n",
    "    model = tf.keras.Model(inputs=inputs, outputs=output)\n",
    "    return model"
   ]
  },
  {
   "cell_type": "code",
   "execution_count": 63,
   "id": "8e44da1a",
   "metadata": {},
   "outputs": [],
   "source": [
    "class BatchLossCallback(Callback):\n",
    "    def __init__(self):\n",
    "        super().__init__()\n",
    "        self.train_batch_losses = []\n",
    "        self.val_batch_losses = []\n",
    "        self.train_batch_accuracy = []  # Added\n",
    "        self.val_batch_accuracy = []  # Added\n",
    "\n",
    "    def on_train_batch_end(self, batch, logs=None):\n",
    "        logs = logs or {}\n",
    "        batch_loss = logs.get('loss')\n",
    "        batch_accuracy = logs.get('accuracy')  # Added\n",
    "        if batch_loss is not None:\n",
    "            self.train_batch_losses.append(batch_loss)\n",
    "        if batch_accuracy is not None:  # Added\n",
    "            self.train_batch_accuracy.append(batch_accuracy)\n",
    "        # print(f'For batch {batch}, loss is {batch_loss}, accuracy is {batch_accuracy}')\n",
    "\n",
    "    def on_test_batch_end(self, batch, logs=None):\n",
    "        logs = logs or {}\n",
    "        batch_loss = logs.get('loss')\n",
    "        batch_accuracy = logs.get('accuracy')  # Added\n",
    "        if batch_loss is not None:\n",
    "            self.val_batch_losses.append(batch_loss)\n",
    "        if batch_accuracy is not None:  # Added\n",
    "            self.val_batch_accuracy.append(batch_accuracy)\n",
    "        #print(f'For batch {batch}, loss is {batch_loss}, accuracy is {batch_accuracy}')"
   ]
  },
  {
   "cell_type": "code",
   "execution_count": null,
   "id": "ece09700",
   "metadata": {},
   "outputs": [],
   "source": []
  },
  {
   "cell_type": "code",
   "execution_count": null,
   "id": "8cea6a92",
   "metadata": {},
   "outputs": [],
   "source": []
  },
  {
   "cell_type": "code",
   "execution_count": 64,
   "id": "62676464",
   "metadata": {},
   "outputs": [],
   "source": [
    "\n",
    "import numpy as np\n",
    "import matplotlib.pyplot as plt\n",
    "import os\n",
    "\n",
    "def get_newlabel(data0):\n",
    "    max_index = np.argmax(data0)\n",
    "    h_index=max_index%data0.shape[1]\n",
    "    interval=data0.shape[1]/3.0\n",
    "    return int(h_index/interval)\n",
    "\n",
    "filename=[]\n",
    "def read_file(dir1):\n",
    "    data1=[]\n",
    "    data2=[]\n",
    "    files= os.listdir(dir1)\n",
    "    for file in files:\n",
    "        if(file[:4])=='Inpt':\n",
    "            filename.append(file)\n",
    "            data0=np.load(dir1+file)\n",
    "            data1.append(data0)\n",
    "            filelbale=dir1+'label_pdf_'+file[5:]\n",
    "            data0=np.load(filelbale)\n",
    "            #data0=(data0-np.min(data0))/(np.max(data0)-np.min(data0))\n",
    "            data2.append(data0)\n",
    "            \n",
    "            if(data0.shape[2]==24):\n",
    "                print(filelbale,data0.shape[2])\n",
    "    return filename,np.array(data1),np.array(data2)\n",
    "\n",
    "\n",
    "filename,data_traing,data_traing_label=read_file('data/')\n",
    "data_traing_input_tf=data_traing.transpose(0,2,3,1)\n",
    "data_traing_label_tf=data_traing_label.transpose(0,2,3,1)"
   ]
  },
  {
   "cell_type": "code",
   "execution_count": 65,
   "id": "bc5961fc",
   "metadata": {},
   "outputs": [
    {
     "data": {
      "text/plain": [
       "(8000, 24, 32, 6)"
      ]
     },
     "execution_count": 65,
     "metadata": {},
     "output_type": "execute_result"
    }
   ],
   "source": [
    "data_traing_input_tf.shape"
   ]
  },
  {
   "cell_type": "code",
   "execution_count": 67,
   "id": "fb94839f",
   "metadata": {},
   "outputs": [],
   "source": [
    "np.save('data_traing_input_tf',data_traing_input_tf)\n",
    "np.save('data_traing_label_tf',data_traing_label_tf)\n",
    "np.save('filename',filename)"
   ]
  },
  {
   "cell_type": "code",
   "execution_count": 74,
   "id": "195ef5a3",
   "metadata": {},
   "outputs": [
    {
     "data": {
      "text/plain": [
       "'1268'"
      ]
     },
     "execution_count": 74,
     "metadata": {},
     "output_type": "execute_result"
    }
   ],
   "source": [
    "filename[300][5:-4]"
   ]
  },
  {
   "cell_type": "code",
   "execution_count": null,
   "id": "d38c7f76",
   "metadata": {},
   "outputs": [],
   "source": [
    "#If data have been saved\n",
    "data_traing_input_tf=np.load('data_traing_input_tf')\n",
    "data_traing_label_tf=np.load('data_traing_label_tf')\n",
    "filename=np.load('filename')"
   ]
  },
  {
   "cell_type": "code",
   "execution_count": null,
   "id": "0c0a7305",
   "metadata": {},
   "outputs": [],
   "source": []
  },
  {
   "cell_type": "code",
   "execution_count": null,
   "id": "439bed08",
   "metadata": {},
   "outputs": [],
   "source": []
  },
  {
   "cell_type": "code",
   "execution_count": 7,
   "id": "a805c3b6",
   "metadata": {},
   "outputs": [],
   "source": [
    "np.random.seed(122) #122\n",
    "index_data=np.arange(0,len(data_traing_label_tf),1)\n",
    "np.random.shuffle(index_data)\n",
    "\n",
    "filename=np.array(filename)\n",
    "filename=filename[index_data]\n",
    "data_traing_label_tf_shuffle=data_traing_label_tf[index_data]\n",
    "data_traing_input_tf_shuffle=data_traing_input_tf[index_data]"
   ]
  },
  {
   "cell_type": "code",
   "execution_count": null,
   "id": "77e64a4c",
   "metadata": {},
   "outputs": [],
   "source": []
  },
  {
   "cell_type": "code",
   "execution_count": 14,
   "id": "9702effe",
   "metadata": {},
   "outputs": [
    {
     "name": "stdout",
     "output_type": "stream",
     "text": [
      "Model: \"model_1\"\n",
      "__________________________________________________________________________________________________\n",
      " Layer (type)                   Output Shape         Param #     Connected to                     \n",
      "==================================================================================================\n",
      " input_2 (InputLayer)           [(None, 24, 32, 6)]  0           []                               \n",
      "                                                                                                  \n",
      " conv2d_17 (Conv2D)             (None, 24, 32, 64)   3520        ['input_2[0][0]']                \n",
      "                                                                                                  \n",
      " batch_normalization_16 (BatchN  (None, 24, 32, 64)  256         ['conv2d_17[0][0]']              \n",
      " ormalization)                                                                                    \n",
      "                                                                                                  \n",
      " conv2d_18 (Conv2D)             (None, 24, 32, 64)   36928       ['batch_normalization_16[0][0]'] \n",
      "                                                                                                  \n",
      " batch_normalization_17 (BatchN  (None, 24, 32, 64)  256         ['conv2d_18[0][0]']              \n",
      " ormalization)                                                                                    \n",
      "                                                                                                  \n",
      " max_pooling2d_3 (MaxPooling2D)  (None, 12, 16, 64)  0           ['batch_normalization_17[0][0]'] \n",
      "                                                                                                  \n",
      " conv2d_19 (Conv2D)             (None, 12, 16, 128)  73856       ['max_pooling2d_3[0][0]']        \n",
      "                                                                                                  \n",
      " batch_normalization_18 (BatchN  (None, 12, 16, 128)  512        ['conv2d_19[0][0]']              \n",
      " ormalization)                                                                                    \n",
      "                                                                                                  \n",
      " conv2d_20 (Conv2D)             (None, 12, 16, 128)  147584      ['batch_normalization_18[0][0]'] \n",
      "                                                                                                  \n",
      " batch_normalization_19 (BatchN  (None, 12, 16, 128)  512        ['conv2d_20[0][0]']              \n",
      " ormalization)                                                                                    \n",
      "                                                                                                  \n",
      " max_pooling2d_4 (MaxPooling2D)  (None, 6, 8, 128)   0           ['batch_normalization_19[0][0]'] \n",
      "                                                                                                  \n",
      " conv2d_21 (Conv2D)             (None, 6, 8, 256)    295168      ['max_pooling2d_4[0][0]']        \n",
      "                                                                                                  \n",
      " batch_normalization_20 (BatchN  (None, 6, 8, 256)   1024        ['conv2d_21[0][0]']              \n",
      " ormalization)                                                                                    \n",
      "                                                                                                  \n",
      " conv2d_22 (Conv2D)             (None, 6, 8, 256)    590080      ['batch_normalization_20[0][0]'] \n",
      "                                                                                                  \n",
      " batch_normalization_21 (BatchN  (None, 6, 8, 256)   1024        ['conv2d_22[0][0]']              \n",
      " ormalization)                                                                                    \n",
      "                                                                                                  \n",
      " max_pooling2d_5 (MaxPooling2D)  (None, 3, 4, 256)   0           ['batch_normalization_21[0][0]'] \n",
      "                                                                                                  \n",
      " conv2d_23 (Conv2D)             (None, 3, 4, 512)    1180160     ['max_pooling2d_5[0][0]']        \n",
      "                                                                                                  \n",
      " batch_normalization_22 (BatchN  (None, 3, 4, 512)   2048        ['conv2d_23[0][0]']              \n",
      " ormalization)                                                                                    \n",
      "                                                                                                  \n",
      " conv2d_24 (Conv2D)             (None, 3, 4, 512)    2359808     ['batch_normalization_22[0][0]'] \n",
      "                                                                                                  \n",
      " batch_normalization_23 (BatchN  (None, 3, 4, 512)   2048        ['conv2d_24[0][0]']              \n",
      " ormalization)                                                                                    \n",
      "                                                                                                  \n",
      " conv2d_transpose_3 (Conv2DTran  (None, 6, 8, 256)   1179904     ['batch_normalization_23[0][0]'] \n",
      " spose)                                                                                           \n",
      "                                                                                                  \n",
      " concatenate_3 (Concatenate)    (None, 6, 8, 512)    0           ['batch_normalization_21[0][0]', \n",
      "                                                                  'conv2d_transpose_3[0][0]']     \n",
      "                                                                                                  \n",
      " conv2d_25 (Conv2D)             (None, 6, 8, 256)    1179904     ['concatenate_3[0][0]']          \n",
      "                                                                                                  \n",
      " batch_normalization_24 (BatchN  (None, 6, 8, 256)   1024        ['conv2d_25[0][0]']              \n",
      " ormalization)                                                                                    \n",
      "                                                                                                  \n",
      " conv2d_26 (Conv2D)             (None, 6, 8, 256)    590080      ['batch_normalization_24[0][0]'] \n",
      "                                                                                                  \n",
      " batch_normalization_25 (BatchN  (None, 6, 8, 256)   1024        ['conv2d_26[0][0]']              \n",
      " ormalization)                                                                                    \n",
      "                                                                                                  \n",
      " conv2d_transpose_4 (Conv2DTran  (None, 12, 16, 128)  295040     ['batch_normalization_25[0][0]'] \n",
      " spose)                                                                                           \n",
      "                                                                                                  \n",
      " concatenate_4 (Concatenate)    (None, 12, 16, 256)  0           ['batch_normalization_19[0][0]', \n",
      "                                                                  'conv2d_transpose_4[0][0]']     \n",
      "                                                                                                  \n",
      " conv2d_27 (Conv2D)             (None, 12, 16, 128)  295040      ['concatenate_4[0][0]']          \n",
      "                                                                                                  \n",
      " batch_normalization_26 (BatchN  (None, 12, 16, 128)  512        ['conv2d_27[0][0]']              \n",
      " ormalization)                                                                                    \n",
      "                                                                                                  \n",
      " conv2d_28 (Conv2D)             (None, 12, 16, 128)  147584      ['batch_normalization_26[0][0]'] \n",
      "                                                                                                  \n",
      " batch_normalization_27 (BatchN  (None, 12, 16, 128)  512        ['conv2d_28[0][0]']              \n",
      " ormalization)                                                                                    \n",
      "                                                                                                  \n"
     ]
    },
    {
     "name": "stdout",
     "output_type": "stream",
     "text": [
      " conv2d_transpose_5 (Conv2DTran  (None, 24, 32, 64)  73792       ['batch_normalization_27[0][0]'] \n",
      " spose)                                                                                           \n",
      "                                                                                                  \n",
      " concatenate_5 (Concatenate)    (None, 24, 32, 128)  0           ['batch_normalization_17[0][0]', \n",
      "                                                                  'conv2d_transpose_5[0][0]']     \n",
      "                                                                                                  \n",
      " conv2d_29 (Conv2D)             (None, 24, 32, 64)   73792       ['concatenate_5[0][0]']          \n",
      "                                                                                                  \n",
      " batch_normalization_28 (BatchN  (None, 24, 32, 64)  256         ['conv2d_29[0][0]']              \n",
      " ormalization)                                                                                    \n",
      "                                                                                                  \n",
      " conv2d_30 (Conv2D)             (None, 24, 32, 64)   36928       ['batch_normalization_28[0][0]'] \n",
      "                                                                                                  \n",
      " batch_normalization_29 (BatchN  (None, 24, 32, 64)  256         ['conv2d_30[0][0]']              \n",
      " ormalization)                                                                                    \n",
      "                                                                                                  \n",
      " conv2d_31 (Conv2D)             (None, 24, 32, 32)   18464       ['batch_normalization_29[0][0]'] \n",
      "                                                                                                  \n",
      " batch_normalization_30 (BatchN  (None, 24, 32, 32)  128         ['conv2d_31[0][0]']              \n",
      " ormalization)                                                                                    \n",
      "                                                                                                  \n",
      " conv2d_32 (Conv2D)             (None, 24, 32, 16)   4624        ['batch_normalization_30[0][0]'] \n",
      "                                                                                                  \n",
      " batch_normalization_31 (BatchN  (None, 24, 32, 16)  64          ['conv2d_32[0][0]']              \n",
      " ormalization)                                                                                    \n",
      "                                                                                                  \n",
      " conv2d_33 (Conv2D)             (None, 24, 32, 2)    34          ['batch_normalization_31[0][0]'] \n",
      "                                                                                                  \n",
      "==================================================================================================\n",
      "Total params: 8,593,746\n",
      "Trainable params: 8,588,018\n",
      "Non-trainable params: 5,728\n",
      "__________________________________________________________________________________________________\n"
     ]
    }
   ],
   "source": [
    "height=24\n",
    "width=32\n",
    "\n",
    "\n",
    "model = unet(height, width)\n",
    "model.summary() "
   ]
  },
  {
   "cell_type": "code",
   "execution_count": 15,
   "id": "59b0e111",
   "metadata": {},
   "outputs": [],
   "source": [
    "Adam = optimizers.Adam()\n",
    "model.compile(optimizer=Adam, loss = 'binary_crossentropy', metrics = ['accuracy'])"
   ]
  },
  {
   "cell_type": "code",
   "execution_count": 10,
   "id": "88151c3f",
   "metadata": {},
   "outputs": [],
   "source": [
    "# 实例化自定义回调\n",
    "batch_loss_callback = BatchLossCallback()\n",
    "\n"
   ]
  },
  {
   "cell_type": "code",
   "execution_count": 77,
   "id": "d70864f3",
   "metadata": {},
   "outputs": [
    {
     "name": "stdout",
     "output_type": "stream",
     "text": [
      "Epoch 1/4\n",
      "36/36 [==============================] - 890s 24s/step - loss: 0.1220 - accuracy: 0.7894 - val_loss: 0.1474 - val_accuracy: 0.7483\n",
      "Epoch 2/4\n",
      "36/36 [==============================] - 1067s 30s/step - loss: 0.1214 - accuracy: 0.7900 - val_loss: 0.1484 - val_accuracy: 0.7495\n",
      "Epoch 3/4\n",
      "36/36 [==============================] - 1743s 48s/step - loss: 0.1204 - accuracy: 0.7907 - val_loss: 0.1445 - val_accuracy: 0.7265\n",
      "Epoch 4/4\n",
      "36/36 [==============================] - 1125s 32s/step - loss: 0.1194 - accuracy: 0.7904 - val_loss: 0.1440 - val_accuracy: 0.7372\n"
     ]
    }
   ],
   "source": [
    "csv_logger = tf.keras.callbacks.CSVLogger('UNet_model/training_batch2.log')\n",
    "test_interval=int(0.1*len(data_traing_input_tf))\n",
    "history = model.fit(data_traing_input_tf_shuffle[:-test_interval], data_traing_label_tf_shuffle[:-test_interval],batch_size=200,verbose=1,\\\n",
    "                    epochs=4, validation_data=(data_traing_input_tf_shuffle[-test_interval:], data_traing_label_tf_shuffle[-test_interval:]),\\\n",
    "                    callbacks=[csv_logger,batch_loss_callback])"
   ]
  },
  {
   "cell_type": "code",
   "execution_count": 18,
   "id": "69735844",
   "metadata": {},
   "outputs": [
    {
     "data": {
      "text/plain": [
       "22"
      ]
     },
     "execution_count": 18,
     "metadata": {},
     "output_type": "execute_result"
    }
   ],
   "source": [
    "len(batch_loss_callback.val_batch_accuracy)"
   ]
  },
  {
   "cell_type": "code",
   "execution_count": 18,
   "id": "eaf9d934",
   "metadata": {},
   "outputs": [],
   "source": [
    "#np.save('batch_losses.txt',batch_loss_callback.batch_losses)\n",
    "f=open('loss_arrc_train.txt','w')\n",
    "for i in range(len(batch_loss_callback.train_batch_losses)):\n",
    "    f.write('%d %f %f\\n' %(i,batch_loss_callback.train_batch_losses[i],batch_loss_callback.train_batch_accuracy[i]))\n",
    "    \n",
    "#np.save('batch_losses.txt',batch_loss_callback.batch_losses)\n",
    "f=open('loss_arrc_test.txt','w')\n",
    "for i in range(len(batch_loss_callback.val_batch_losses)):\n",
    "    f.write('%d %f %f\\n' %(i,batch_loss_callback.val_batch_losses[i],batch_loss_callback.val_batch_accuracy[i]))\n",
    "    \n",
    "\n",
    "f=open('name_text.txt','w')\n",
    "for i in range(test_interval):\n",
    "    f.write('%s\\n' %filename[-test_interval+i])\n",
    "f.close()\n",
    "\n",
    "f=open('name_train.txt','w')\n",
    "for i in range(len(filename)-test_interval):\n",
    "    f.write('%s\\n' %filename[i])\n",
    "f.close()\n"
   ]
  },
  {
   "cell_type": "code",
   "execution_count": null,
   "id": "17beae89",
   "metadata": {},
   "outputs": [],
   "source": []
  },
  {
   "cell_type": "code",
   "execution_count": null,
   "id": "f4ce2988",
   "metadata": {},
   "outputs": [],
   "source": []
  },
  {
   "cell_type": "code",
   "execution_count": 19,
   "id": "c0ccd31c",
   "metadata": {},
   "outputs": [
    {
     "ename": "ValueError",
     "evalue": "x and y must have same first dimension, but have shapes (3060,) and (336,)",
     "output_type": "error",
     "traceback": [
      "\u001b[1;31m---------------------------------------------------------------------------\u001b[0m",
      "\u001b[1;31mValueError\u001b[0m                                Traceback (most recent call last)",
      "Cell \u001b[1;32mIn[19], line 10\u001b[0m\n\u001b[0;32m      7\u001b[0m fig \u001b[38;5;241m=\u001b[39m plt\u001b[38;5;241m.\u001b[39mfigure(figsize\u001b[38;5;241m=\u001b[39m(\u001b[38;5;241m6\u001b[39m, \u001b[38;5;241m4\u001b[39m)) \n\u001b[0;32m      9\u001b[0m plt\u001b[38;5;241m.\u001b[39mplot(itea, loss,linewidth\u001b[38;5;241m=\u001b[39m\u001b[38;5;241m2.0\u001b[39m,color\u001b[38;5;241m=\u001b[39m\u001b[38;5;124m'\u001b[39m\u001b[38;5;124mblack\u001b[39m\u001b[38;5;124m'\u001b[39m,label\u001b[38;5;241m=\u001b[39m\u001b[38;5;124m'\u001b[39m\u001b[38;5;124mLoss_train\u001b[39m\u001b[38;5;124m'\u001b[39m)\n\u001b[1;32m---> 10\u001b[0m \u001b[43mplt\u001b[49m\u001b[38;5;241;43m.\u001b[39;49m\u001b[43mplot\u001b[49m\u001b[43m(\u001b[49m\u001b[43mitea\u001b[49m\u001b[43m,\u001b[49m\u001b[43m \u001b[49m\u001b[43mval_loss\u001b[49m\u001b[43m,\u001b[49m\u001b[43mlinewidth\u001b[49m\u001b[38;5;241;43m=\u001b[39;49m\u001b[38;5;241;43m2.0\u001b[39;49m\u001b[43m,\u001b[49m\u001b[43mcolor\u001b[49m\u001b[38;5;241;43m=\u001b[39;49m\u001b[38;5;124;43m'\u001b[39;49m\u001b[38;5;124;43mred\u001b[39;49m\u001b[38;5;124;43m'\u001b[39;49m\u001b[43m,\u001b[49m\u001b[43mlabel\u001b[49m\u001b[38;5;241;43m=\u001b[39;49m\u001b[38;5;124;43m'\u001b[39;49m\u001b[38;5;124;43mLoss_test\u001b[39;49m\u001b[38;5;124;43m'\u001b[39;49m\u001b[43m)\u001b[49m\n\u001b[0;32m     11\u001b[0m plt\u001b[38;5;241m.\u001b[39mlegend(loc\u001b[38;5;241m=\u001b[39m\u001b[38;5;124m\"\u001b[39m\u001b[38;5;124mbest\u001b[39m\u001b[38;5;124m\"\u001b[39m,fontsize\u001b[38;5;241m=\u001b[39m\u001b[38;5;241m15\u001b[39m)\n\u001b[0;32m     13\u001b[0m \u001b[38;5;66;03m#plt.yscale('log') \u001b[39;00m\n",
      "File \u001b[1;32mD:\\Anaconda3\\envs\\simpeg\\lib\\site-packages\\matplotlib\\pyplot.py:2812\u001b[0m, in \u001b[0;36mplot\u001b[1;34m(scalex, scaley, data, *args, **kwargs)\u001b[0m\n\u001b[0;32m   2810\u001b[0m \u001b[38;5;129m@_copy_docstring_and_deprecators\u001b[39m(Axes\u001b[38;5;241m.\u001b[39mplot)\n\u001b[0;32m   2811\u001b[0m \u001b[38;5;28;01mdef\u001b[39;00m \u001b[38;5;21mplot\u001b[39m(\u001b[38;5;241m*\u001b[39margs, scalex\u001b[38;5;241m=\u001b[39m\u001b[38;5;28;01mTrue\u001b[39;00m, scaley\u001b[38;5;241m=\u001b[39m\u001b[38;5;28;01mTrue\u001b[39;00m, data\u001b[38;5;241m=\u001b[39m\u001b[38;5;28;01mNone\u001b[39;00m, \u001b[38;5;241m*\u001b[39m\u001b[38;5;241m*\u001b[39mkwargs):\n\u001b[1;32m-> 2812\u001b[0m     \u001b[38;5;28;01mreturn\u001b[39;00m \u001b[43mgca\u001b[49m\u001b[43m(\u001b[49m\u001b[43m)\u001b[49m\u001b[38;5;241;43m.\u001b[39;49m\u001b[43mplot\u001b[49m\u001b[43m(\u001b[49m\n\u001b[0;32m   2813\u001b[0m \u001b[43m        \u001b[49m\u001b[38;5;241;43m*\u001b[39;49m\u001b[43margs\u001b[49m\u001b[43m,\u001b[49m\u001b[43m \u001b[49m\u001b[43mscalex\u001b[49m\u001b[38;5;241;43m=\u001b[39;49m\u001b[43mscalex\u001b[49m\u001b[43m,\u001b[49m\u001b[43m \u001b[49m\u001b[43mscaley\u001b[49m\u001b[38;5;241;43m=\u001b[39;49m\u001b[43mscaley\u001b[49m\u001b[43m,\u001b[49m\n\u001b[0;32m   2814\u001b[0m \u001b[43m        \u001b[49m\u001b[38;5;241;43m*\u001b[39;49m\u001b[38;5;241;43m*\u001b[39;49m\u001b[43m(\u001b[49m\u001b[43m{\u001b[49m\u001b[38;5;124;43m\"\u001b[39;49m\u001b[38;5;124;43mdata\u001b[39;49m\u001b[38;5;124;43m\"\u001b[39;49m\u001b[43m:\u001b[49m\u001b[43m \u001b[49m\u001b[43mdata\u001b[49m\u001b[43m}\u001b[49m\u001b[43m \u001b[49m\u001b[38;5;28;43;01mif\u001b[39;49;00m\u001b[43m \u001b[49m\u001b[43mdata\u001b[49m\u001b[43m \u001b[49m\u001b[38;5;129;43;01mis\u001b[39;49;00m\u001b[43m \u001b[49m\u001b[38;5;129;43;01mnot\u001b[39;49;00m\u001b[43m \u001b[49m\u001b[38;5;28;43;01mNone\u001b[39;49;00m\u001b[43m \u001b[49m\u001b[38;5;28;43;01melse\u001b[39;49;00m\u001b[43m \u001b[49m\u001b[43m{\u001b[49m\u001b[43m}\u001b[49m\u001b[43m)\u001b[49m\u001b[43m,\u001b[49m\u001b[43m \u001b[49m\u001b[38;5;241;43m*\u001b[39;49m\u001b[38;5;241;43m*\u001b[39;49m\u001b[43mkwargs\u001b[49m\u001b[43m)\u001b[49m\n",
      "File \u001b[1;32mD:\\Anaconda3\\envs\\simpeg\\lib\\site-packages\\matplotlib\\axes\\_axes.py:1688\u001b[0m, in \u001b[0;36mAxes.plot\u001b[1;34m(self, scalex, scaley, data, *args, **kwargs)\u001b[0m\n\u001b[0;32m   1445\u001b[0m \u001b[38;5;124;03m\"\"\"\u001b[39;00m\n\u001b[0;32m   1446\u001b[0m \u001b[38;5;124;03mPlot y versus x as lines and/or markers.\u001b[39;00m\n\u001b[0;32m   1447\u001b[0m \n\u001b[1;32m   (...)\u001b[0m\n\u001b[0;32m   1685\u001b[0m \u001b[38;5;124;03m(``'green'``) or hex strings (``'#008000'``).\u001b[39;00m\n\u001b[0;32m   1686\u001b[0m \u001b[38;5;124;03m\"\"\"\u001b[39;00m\n\u001b[0;32m   1687\u001b[0m kwargs \u001b[38;5;241m=\u001b[39m cbook\u001b[38;5;241m.\u001b[39mnormalize_kwargs(kwargs, mlines\u001b[38;5;241m.\u001b[39mLine2D)\n\u001b[1;32m-> 1688\u001b[0m lines \u001b[38;5;241m=\u001b[39m [\u001b[38;5;241m*\u001b[39m\u001b[38;5;28mself\u001b[39m\u001b[38;5;241m.\u001b[39m_get_lines(\u001b[38;5;241m*\u001b[39margs, data\u001b[38;5;241m=\u001b[39mdata, \u001b[38;5;241m*\u001b[39m\u001b[38;5;241m*\u001b[39mkwargs)]\n\u001b[0;32m   1689\u001b[0m \u001b[38;5;28;01mfor\u001b[39;00m line \u001b[38;5;129;01min\u001b[39;00m lines:\n\u001b[0;32m   1690\u001b[0m     \u001b[38;5;28mself\u001b[39m\u001b[38;5;241m.\u001b[39madd_line(line)\n",
      "File \u001b[1;32mD:\\Anaconda3\\envs\\simpeg\\lib\\site-packages\\matplotlib\\axes\\_base.py:311\u001b[0m, in \u001b[0;36m_process_plot_var_args.__call__\u001b[1;34m(self, data, *args, **kwargs)\u001b[0m\n\u001b[0;32m    309\u001b[0m     this \u001b[38;5;241m+\u001b[39m\u001b[38;5;241m=\u001b[39m args[\u001b[38;5;241m0\u001b[39m],\n\u001b[0;32m    310\u001b[0m     args \u001b[38;5;241m=\u001b[39m args[\u001b[38;5;241m1\u001b[39m:]\n\u001b[1;32m--> 311\u001b[0m \u001b[38;5;28;01myield from\u001b[39;00m \u001b[38;5;28;43mself\u001b[39;49m\u001b[38;5;241;43m.\u001b[39;49m\u001b[43m_plot_args\u001b[49m\u001b[43m(\u001b[49m\n\u001b[0;32m    312\u001b[0m \u001b[43m    \u001b[49m\u001b[43mthis\u001b[49m\u001b[43m,\u001b[49m\u001b[43m \u001b[49m\u001b[43mkwargs\u001b[49m\u001b[43m,\u001b[49m\u001b[43m \u001b[49m\u001b[43mambiguous_fmt_datakey\u001b[49m\u001b[38;5;241;43m=\u001b[39;49m\u001b[43mambiguous_fmt_datakey\u001b[49m\u001b[43m)\u001b[49m\n",
      "File \u001b[1;32mD:\\Anaconda3\\envs\\simpeg\\lib\\site-packages\\matplotlib\\axes\\_base.py:504\u001b[0m, in \u001b[0;36m_process_plot_var_args._plot_args\u001b[1;34m(self, tup, kwargs, return_kwargs, ambiguous_fmt_datakey)\u001b[0m\n\u001b[0;32m    501\u001b[0m     \u001b[38;5;28mself\u001b[39m\u001b[38;5;241m.\u001b[39maxes\u001b[38;5;241m.\u001b[39myaxis\u001b[38;5;241m.\u001b[39mupdate_units(y)\n\u001b[0;32m    503\u001b[0m \u001b[38;5;28;01mif\u001b[39;00m x\u001b[38;5;241m.\u001b[39mshape[\u001b[38;5;241m0\u001b[39m] \u001b[38;5;241m!=\u001b[39m y\u001b[38;5;241m.\u001b[39mshape[\u001b[38;5;241m0\u001b[39m]:\n\u001b[1;32m--> 504\u001b[0m     \u001b[38;5;28;01mraise\u001b[39;00m \u001b[38;5;167;01mValueError\u001b[39;00m(\u001b[38;5;124mf\u001b[39m\u001b[38;5;124m\"\u001b[39m\u001b[38;5;124mx and y must have same first dimension, but \u001b[39m\u001b[38;5;124m\"\u001b[39m\n\u001b[0;32m    505\u001b[0m                      \u001b[38;5;124mf\u001b[39m\u001b[38;5;124m\"\u001b[39m\u001b[38;5;124mhave shapes \u001b[39m\u001b[38;5;132;01m{\u001b[39;00mx\u001b[38;5;241m.\u001b[39mshape\u001b[38;5;132;01m}\u001b[39;00m\u001b[38;5;124m and \u001b[39m\u001b[38;5;132;01m{\u001b[39;00my\u001b[38;5;241m.\u001b[39mshape\u001b[38;5;132;01m}\u001b[39;00m\u001b[38;5;124m\"\u001b[39m)\n\u001b[0;32m    506\u001b[0m \u001b[38;5;28;01mif\u001b[39;00m x\u001b[38;5;241m.\u001b[39mndim \u001b[38;5;241m>\u001b[39m \u001b[38;5;241m2\u001b[39m \u001b[38;5;129;01mor\u001b[39;00m y\u001b[38;5;241m.\u001b[39mndim \u001b[38;5;241m>\u001b[39m \u001b[38;5;241m2\u001b[39m:\n\u001b[0;32m    507\u001b[0m     \u001b[38;5;28;01mraise\u001b[39;00m \u001b[38;5;167;01mValueError\u001b[39;00m(\u001b[38;5;124mf\u001b[39m\u001b[38;5;124m\"\u001b[39m\u001b[38;5;124mx and y can be no greater than 2D, but have \u001b[39m\u001b[38;5;124m\"\u001b[39m\n\u001b[0;32m    508\u001b[0m                      \u001b[38;5;124mf\u001b[39m\u001b[38;5;124m\"\u001b[39m\u001b[38;5;124mshapes \u001b[39m\u001b[38;5;132;01m{\u001b[39;00mx\u001b[38;5;241m.\u001b[39mshape\u001b[38;5;132;01m}\u001b[39;00m\u001b[38;5;124m and \u001b[39m\u001b[38;5;132;01m{\u001b[39;00my\u001b[38;5;241m.\u001b[39mshape\u001b[38;5;132;01m}\u001b[39;00m\u001b[38;5;124m\"\u001b[39m)\n",
      "\u001b[1;31mValueError\u001b[0m: x and y must have same first dimension, but have shapes (3060,) and (336,)"
     ]
    },
    {
     "data": {
      "image/png": "[encoded data removed]",
      "text/plain": [
       "<Figure size 600x400 with 1 Axes>"
      ]
     },
     "metadata": {},
     "output_type": "display_data"
    }
   ],
   "source": [
    "\n",
    "itea=np.arange(0,len(batch_loss_callback.train_batch_losses),1)\n",
    "loss=batch_loss_callback.train_batch_losses\n",
    "val_loss=batch_loss_callback.val_batch_losses\n",
    "loss[0]=0.683\n",
    "val_loss[0]=0.675\n",
    "\n",
    "fig = plt.figure(figsize=(6, 4)) \n",
    "\n",
    "plt.plot(itea, loss,linewidth=2.0,color='black',label='Loss_train')\n",
    "plt.plot(itea, val_loss,linewidth=2.0,color='red',label='Loss_test')\n",
    "plt.legend(loc=\"best\",fontsize=15)\n",
    "\n",
    "#plt.yscale('log') \n",
    "plt.ylim(0,0.8)\n",
    "plt.ylabel('Probability',fontsize=18)\n",
    "plt.xlabel('Mapping X (m)',fontsize=18)\n",
    "plt.xlabel('Epoch')\n",
    "plt.ylabel('Loss')\n",
    "plt.tick_params(labelsize=15)\n",
    "plt.grid()\n",
    "plt.subplots_adjust(top=0.95,bottom=0.18,left=0.18,right=0.95)\n",
    "plt.savefig('loss.png',dpi=(300.0))\n",
    "#plt.savefig('plot/'+name+'.png',dpi=300)"
   ]
  },
  {
   "cell_type": "code",
   "execution_count": null,
   "id": "eb1aa5dc",
   "metadata": {},
   "outputs": [],
   "source": []
  },
  {
   "cell_type": "code",
   "execution_count": 76,
   "id": "011007d1",
   "metadata": {},
   "outputs": [],
   "source": [
    "model.save_weights('UNet_model/FTEM.ckpt')\n",
    "model.save('UNet_model/FTEM.h5')\n",
    "\n"
   ]
  },
  {
   "cell_type": "code",
   "execution_count": 22,
   "id": "be3b673a",
   "metadata": {},
   "outputs": [
    {
     "name": "stdout",
     "output_type": "stream",
     "text": [
      "250/250 [==============================] - 100s 401ms/step\n"
     ]
    }
   ],
   "source": [
    "prediction = model.predict(data_traing_input_tf)"
   ]
  },
  {
   "cell_type": "code",
   "execution_count": 23,
   "id": "3dced70e",
   "metadata": {},
   "outputs": [],
   "source": [
    "np.save('prediction.npy', prediction)"
   ]
  },
  {
   "cell_type": "code",
   "execution_count": 26,
   "id": "afa74f8b",
   "metadata": {},
   "outputs": [
    {
     "data": {
      "text/plain": [
       "((8000, 24, 32, 2), (8000, 24, 32, 2))"
      ]
     },
     "execution_count": 26,
     "metadata": {},
     "output_type": "execute_result"
    }
   ],
   "source": [
    "prediction.shape,data_traing_label_tf.shape"
   ]
  },
  {
   "cell_type": "code",
   "execution_count": null,
   "id": "87a8dfe8",
   "metadata": {},
   "outputs": [],
   "source": []
  },
  {
   "cell_type": "code",
   "execution_count": 52,
   "id": "a2f11a8a",
   "metadata": {},
   "outputs": [
    {
     "data": {
      "text/plain": [
       "<matplotlib.colorbar.Colorbar at 0x229e5a9afd0>"
      ]
     },
     "execution_count": 52,
     "metadata": {},
     "output_type": "execute_result"
    },
    {
     "data": {
      "image/png": "[encoded data removed]",
      "text/plain": [
       "<Figure size 640x480 with 2 Axes>"
      ]
     },
     "metadata": {},
     "output_type": "display_data"
    }
   ],
   "source": [
    "plt.pcolor(data_traing_label_tf[-203,:,:,1])\n",
    "plt.clim(0,1)\n",
    "plt.colorbar()"
   ]
  },
  {
   "cell_type": "code",
   "execution_count": 53,
   "id": "89927ec4",
   "metadata": {},
   "outputs": [
    {
     "data": {
      "text/plain": [
       "<matplotlib.colorbar.Colorbar at 0x229e5b89850>"
      ]
     },
     "execution_count": 53,
     "metadata": {},
     "output_type": "execute_result"
    },
    {
     "data": {
      "image/png": "[encoded data removed]",
      "text/plain": [
       "<Figure size 640x480 with 2 Axes>"
      ]
     },
     "metadata": {},
     "output_type": "display_data"
    }
   ],
   "source": [
    "plt.pcolor(prediction[-203,:,:,1])\n",
    "plt.clim(0,1)\n",
    "plt.colorbar()"
   ]
  },
  {
   "cell_type": "code",
   "execution_count": null,
   "id": "dd4215c3",
   "metadata": {},
   "outputs": [],
   "source": []
  },
  {
   "cell_type": "code",
   "execution_count": null,
   "id": "f921c59d",
   "metadata": {},
   "outputs": [],
   "source": [
    "import pandas as pd\n",
    "import matplotlib.pyplot as plt\n",
    "\n",
    "df = pd.read_csv('UNet_model/training_batch.log')\n",
    "plt.plot(df['epoch'], df['loss'])\n",
    "plt.xlabel('Epoch')\n",
    "plt.ylabel('Loss')\n",
    "plt.show()"
   ]
  },
  {
   "cell_type": "code",
   "execution_count": null,
   "id": "89fd1d7d",
   "metadata": {},
   "outputs": [],
   "source": []
  }
 ],
 "metadata": {
  "kernelspec": {
   "display_name": "Python 3 (ipykernel)",
   "language": "python",
   "name": "python3"
  },
  "language_info": {
   "codemirror_mode": {
    "name": "ipython",
    "version": 3
   },
   "file_extension": ".py",
   "mimetype": "text/x-python",
   "name": "python",
   "nbconvert_exporter": "python",
   "pygments_lexer": "ipython3",
   "version": "3.8.16"
  }
 },
 "nbformat": 4,
 "nbformat_minor": 5
}
