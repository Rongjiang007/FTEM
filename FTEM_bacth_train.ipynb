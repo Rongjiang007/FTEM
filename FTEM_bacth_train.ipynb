{
 "cells": [
  {
   "cell_type": "code",
   "execution_count": 1,
   "id": "4c82eaa9",
   "metadata": {},
   "outputs": [],
   "source": [
    "import tensorflow as tf\n",
    "from tensorflow.keras.layers import Input, Conv2D, MaxPooling2D, Dropout, Conv2DTranspose, concatenate,BatchNormalization\n",
    "from tensorflow.keras import optimizers\n",
    "from tensorflow.keras.callbacks import Callback\n",
    "\n",
    "def unet(height, width):\n",
    "    input_shape = (height, width, 6)\n",
    "    inputs = Input(input_shape)\n",
    "\n",
    "    conv1 = Conv2D(64, (3, 3), activation='relu', padding='same')(inputs)\n",
    "    conv1 = BatchNormalization()(conv1)\n",
    "    conv1 = Conv2D(64, (3, 3), activation='relu', padding='same')(conv1)\n",
    "    conv1 = BatchNormalization()(conv1)\n",
    "    pool1 = MaxPooling2D(pool_size=(2, 2))(conv1)\n",
    "\n",
    "    conv2 = Conv2D(128, (3, 3), activation='relu', padding='same')(pool1)\n",
    "    conv2 = BatchNormalization()(conv2)\n",
    "    conv2 = Conv2D(128, (3, 3), activation='relu', padding='same')(conv2)\n",
    "    conv2 = BatchNormalization()(conv2)\n",
    "    pool2 = MaxPooling2D(pool_size=(2, 2))(conv2)\n",
    "\n",
    "    conv3 = Conv2D(256, (3, 3), activation='relu', padding='same')(pool2)\n",
    "    conv3 = BatchNormalization()(conv3)\n",
    "    conv3 = Conv2D(256, (3, 3), activation='relu', padding='same')(conv3)\n",
    "    conv3 = BatchNormalization()(conv3)\n",
    "    pool3 = MaxPooling2D(pool_size=(2, 2))(conv3)\n",
    "\n",
    "    # Bottleneck\n",
    "    conv4 = Conv2D(512, (3, 3), activation='relu', padding='same')(pool3)\n",
    "    conv4 = BatchNormalization()(conv4)\n",
    "    conv4 = Conv2D(512, (3, 3), activation='relu', padding='same')(conv4)\n",
    "    conv4 = BatchNormalization()(conv4)\n",
    "\n",
    "    # Decoder\n",
    "    up5 = Conv2DTranspose(256, (3, 3), strides=(2, 2), padding='same')(conv4)\n",
    "    merge5 = concatenate([conv3, up5], axis=3)\n",
    "    conv5 = Conv2D(256, (3, 3), activation='relu', padding='same')(merge5)\n",
    "    conv5 = BatchNormalization()(conv5)\n",
    "    conv5 = Conv2D(256, (3, 3), activation='relu', padding='same')(conv5)\n",
    "    conv5 = BatchNormalization()(conv5)\n",
    "\n",
    "    up6 = Conv2DTranspose(128, (3, 3), strides=(2, 2), padding='same')(conv5)\n",
    "    merge6 = concatenate([conv2, up6], axis=3)\n",
    "    conv6 = Conv2D(128, (3, 3), activation='relu', padding='same')(merge6)\n",
    "    conv6 = BatchNormalization()(conv6)\n",
    "    conv6 = Conv2D(128, (3, 3), activation='relu', padding='same')(conv6)\n",
    "    conv6 = BatchNormalization()(conv6)\n",
    "    \n",
    "    \n",
    "    up7 = Conv2DTranspose(64, (3, 3), strides=(2, 2), padding='same')(conv6)\n",
    "    merge7 = concatenate([conv1, up7], axis=3)\n",
    "    conv7 = Conv2D(64, (3, 3), activation='relu', padding='same')(merge7)\n",
    "    conv7 = BatchNormalization()(conv7)\n",
    "    conv7 = Conv2D(64, (3, 3), activation='relu', padding='same')(conv7)\n",
    "    conv7 = BatchNormalization()(conv7)\n",
    "    conv7 = Conv2D(32, (3, 3), activation='relu', padding='same')(conv7)\n",
    "    conv7 = BatchNormalization()(conv7)\n",
    "    conv7 = Conv2D(16, (3, 3), activation='relu', padding='same')(conv7)\n",
    "    conv7 = BatchNormalization()(conv7)\n",
    "    output = Conv2D(2, (1,1), activation='sigmoid')(conv7)\n",
    "    \n",
    "    model = tf.keras.Model(inputs=inputs, outputs=output)\n",
    "    return model"
   ]
  },
  {
   "cell_type": "code",
   "execution_count": 2,
   "id": "8e44da1a",
   "metadata": {},
   "outputs": [],
   "source": [
    "class BatchLossCallback(Callback):\n",
    "    def __init__(self):\n",
    "        super().__init__()\n",
    "        self.train_batch_losses = []\n",
    "        self.val_batch_losses = []\n",
    "        self.train_batch_accuracy = []  # Added\n",
    "        self.val_batch_accuracy = []  # Added\n",
    "\n",
    "    def on_train_batch_end(self, batch, logs=None):\n",
    "        logs = logs or {}\n",
    "        batch_loss = logs.get('loss')\n",
    "        batch_accuracy = logs.get('accuracy')  # Added\n",
    "        if batch_loss is not None:\n",
    "            self.train_batch_losses.append(batch_loss)\n",
    "        if batch_accuracy is not None:  # Added\n",
    "            self.train_batch_accuracy.append(batch_accuracy)\n",
    "        # print(f'For batch {batch}, loss is {batch_loss}, accuracy is {batch_accuracy}')\n",
    "\n",
    "    def on_test_batch_end(self, batch, logs=None):\n",
    "        logs = logs or {}\n",
    "        batch_loss = logs.get('loss')\n",
    "        batch_accuracy = logs.get('accuracy')  # Added\n",
    "        if batch_loss is not None:\n",
    "            self.val_batch_losses.append(batch_loss)\n",
    "        if batch_accuracy is not None:  # Added\n",
    "            self.val_batch_accuracy.append(batch_accuracy)\n",
    "        #print(f'For batch {batch}, loss is {batch_loss}, accuracy is {batch_accuracy}')"
   ]
  },
  {
   "cell_type": "code",
   "execution_count": null,
   "id": "ece09700",
   "metadata": {},
   "outputs": [],
   "source": []
  },
  {
   "cell_type": "code",
   "execution_count": null,
   "id": "8cea6a92",
   "metadata": {},
   "outputs": [],
   "source": []
  },
  {
   "cell_type": "code",
   "execution_count": 22,
   "id": "62676464",
   "metadata": {},
   "outputs": [],
   "source": [
    "\n",
    "# import numpy as np\n",
    "# import matplotlib.pyplot as plt\n",
    "# import os\n",
    "\n",
    "# def get_newlabel(data0):\n",
    "#     max_index = np.argmax(data0)\n",
    "#     h_index=max_index%data0.shape[1]\n",
    "#     interval=data0.shape[1]/3.0\n",
    "#     return int(h_index/interval)\n",
    "\n",
    "# filename=[]\n",
    "# def read_file(dir1):\n",
    "#     data1=[]\n",
    "#     data2=[]\n",
    "#     files= os.listdir(dir1)\n",
    "#     for file in files:\n",
    "#         if(file[:4])=='Inpt':\n",
    "#             filename.append(file)\n",
    "#             data0=np.load(dir1+file)\n",
    "#             data1.append(data0)\n",
    "#             filelbale=dir1+'label_pdf_'+file[5:]\n",
    "#             data0=np.load(filelbale)\n",
    "#             #data0=(data0-np.min(data0))/(np.max(data0)-np.min(data0))\n",
    "#             data2.append(data0)\n",
    "            \n",
    "#             if(data0.shape[2]==24):\n",
    "#                 print(filelbale,data0.shape[2])\n",
    "#     return filename,np.array(data1),np.array(data2)\n",
    "\n",
    "\n",
    "# filename,data_traing,data_traing_label=read_file('data/')\n",
    "# data_traing_input_tf=data_traing.transpose(0,2,3,1)\n",
    "# data_traing_label_tf=data_traing_label.transpose(0,2,3,1)"
   ]
  },
  {
   "cell_type": "code",
   "execution_count": null,
   "id": "bc5961fc",
   "metadata": {},
   "outputs": [],
   "source": []
  },
  {
   "cell_type": "code",
   "execution_count": null,
   "id": "fb94839f",
   "metadata": {},
   "outputs": [],
   "source": []
  },
  {
   "cell_type": "code",
   "execution_count": null,
   "id": "195ef5a3",
   "metadata": {},
   "outputs": [],
   "source": []
  },
  {
   "cell_type": "code",
   "execution_count": 11,
   "id": "d38c7f76",
   "metadata": {},
   "outputs": [],
   "source": [
    "#If data have been saved\n",
    "data_traing_input_tf=np.load('data_traing_input_tf.npy')\n",
    "data_traing_label_tf=np.load('data_traing_label_tf.npy')\n",
    "filename=np.load('filename.npy')"
   ]
  },
  {
   "cell_type": "code",
   "execution_count": null,
   "id": "0c0a7305",
   "metadata": {},
   "outputs": [],
   "source": []
  },
  {
   "cell_type": "code",
   "execution_count": null,
   "id": "439bed08",
   "metadata": {},
   "outputs": [],
   "source": []
  },
  {
   "cell_type": "code",
   "execution_count": 12,
   "id": "a805c3b6",
   "metadata": {},
   "outputs": [],
   "source": [
    "np.random.seed(122) #122\n",
    "index_data=np.arange(0,len(data_traing_label_tf),1)\n",
    "np.random.shuffle(index_data)\n",
    "\n",
    "filename=np.array(filename)\n",
    "filename=filename[index_data]\n",
    "data_traing_label_tf_shuffle=data_traing_label_tf[index_data]\n",
    "data_traing_input_tf_shuffle=data_traing_input_tf[index_data]"
   ]
  },
  {
   "cell_type": "code",
   "execution_count": null,
   "id": "77e64a4c",
   "metadata": {},
   "outputs": [],
   "source": []
  },
  {
   "cell_type": "code",
   "execution_count": 13,
   "id": "9702effe",
   "metadata": {},
   "outputs": [
    {
     "name": "stdout",
     "output_type": "stream",
     "text": [
      "Model: \"model\"\n",
      "__________________________________________________________________________________________________\n",
      " Layer (type)                   Output Shape         Param #     Connected to                     \n",
      "==================================================================================================\n",
      " input_1 (InputLayer)           [(None, 24, 32, 6)]  0           []                               \n",
      "                                                                                                  \n",
      " conv2d (Conv2D)                (None, 24, 32, 64)   3520        ['input_1[0][0]']                \n",
      "                                                                                                  \n",
      " batch_normalization (BatchNorm  (None, 24, 32, 64)  256         ['conv2d[0][0]']                 \n",
      " alization)                                                                                       \n",
      "                                                                                                  \n",
      " conv2d_1 (Conv2D)              (None, 24, 32, 64)   36928       ['batch_normalization[0][0]']    \n",
      "                                                                                                  \n",
      " batch_normalization_1 (BatchNo  (None, 24, 32, 64)  256         ['conv2d_1[0][0]']               \n",
      " rmalization)                                                                                     \n",
      "                                                                                                  \n",
      " max_pooling2d (MaxPooling2D)   (None, 12, 16, 64)   0           ['batch_normalization_1[0][0]']  \n",
      "                                                                                                  \n",
      " conv2d_2 (Conv2D)              (None, 12, 16, 128)  73856       ['max_pooling2d[0][0]']          \n",
      "                                                                                                  \n",
      " batch_normalization_2 (BatchNo  (None, 12, 16, 128)  512        ['conv2d_2[0][0]']               \n",
      " rmalization)                                                                                     \n",
      "                                                                                                  \n",
      " conv2d_3 (Conv2D)              (None, 12, 16, 128)  147584      ['batch_normalization_2[0][0]']  \n",
      "                                                                                                  \n",
      " batch_normalization_3 (BatchNo  (None, 12, 16, 128)  512        ['conv2d_3[0][0]']               \n",
      " rmalization)                                                                                     \n",
      "                                                                                                  \n",
      " max_pooling2d_1 (MaxPooling2D)  (None, 6, 8, 128)   0           ['batch_normalization_3[0][0]']  \n",
      "                                                                                                  \n",
      " conv2d_4 (Conv2D)              (None, 6, 8, 256)    295168      ['max_pooling2d_1[0][0]']        \n",
      "                                                                                                  \n",
      " batch_normalization_4 (BatchNo  (None, 6, 8, 256)   1024        ['conv2d_4[0][0]']               \n",
      " rmalization)                                                                                     \n",
      "                                                                                                  \n",
      " conv2d_5 (Conv2D)              (None, 6, 8, 256)    590080      ['batch_normalization_4[0][0]']  \n",
      "                                                                                                  \n",
      " batch_normalization_5 (BatchNo  (None, 6, 8, 256)   1024        ['conv2d_5[0][0]']               \n",
      " rmalization)                                                                                     \n",
      "                                                                                                  \n",
      " max_pooling2d_2 (MaxPooling2D)  (None, 3, 4, 256)   0           ['batch_normalization_5[0][0]']  \n",
      "                                                                                                  \n",
      " conv2d_6 (Conv2D)              (None, 3, 4, 512)    1180160     ['max_pooling2d_2[0][0]']        \n",
      "                                                                                                  \n",
      " batch_normalization_6 (BatchNo  (None, 3, 4, 512)   2048        ['conv2d_6[0][0]']               \n",
      " rmalization)                                                                                     \n",
      "                                                                                                  \n",
      " conv2d_7 (Conv2D)              (None, 3, 4, 512)    2359808     ['batch_normalization_6[0][0]']  \n",
      "                                                                                                  \n",
      " batch_normalization_7 (BatchNo  (None, 3, 4, 512)   2048        ['conv2d_7[0][0]']               \n",
      " rmalization)                                                                                     \n",
      "                                                                                                  \n",
      " conv2d_transpose (Conv2DTransp  (None, 6, 8, 256)   1179904     ['batch_normalization_7[0][0]']  \n",
      " ose)                                                                                             \n",
      "                                                                                                  \n",
      " concatenate (Concatenate)      (None, 6, 8, 512)    0           ['batch_normalization_5[0][0]',  \n",
      "                                                                  'conv2d_transpose[0][0]']       \n",
      "                                                                                                  \n",
      " conv2d_8 (Conv2D)              (None, 6, 8, 256)    1179904     ['concatenate[0][0]']            \n",
      "                                                                                                  \n",
      " batch_normalization_8 (BatchNo  (None, 6, 8, 256)   1024        ['conv2d_8[0][0]']               \n",
      " rmalization)                                                                                     \n",
      "                                                                                                  \n",
      " conv2d_9 (Conv2D)              (None, 6, 8, 256)    590080      ['batch_normalization_8[0][0]']  \n",
      "                                                                                                  \n",
      " batch_normalization_9 (BatchNo  (None, 6, 8, 256)   1024        ['conv2d_9[0][0]']               \n",
      " rmalization)                                                                                     \n",
      "                                                                                                  \n",
      " conv2d_transpose_1 (Conv2DTran  (None, 12, 16, 128)  295040     ['batch_normalization_9[0][0]']  \n",
      " spose)                                                                                           \n",
      "                                                                                                  \n",
      " concatenate_1 (Concatenate)    (None, 12, 16, 256)  0           ['batch_normalization_3[0][0]',  \n",
      "                                                                  'conv2d_transpose_1[0][0]']     \n",
      "                                                                                                  \n",
      " conv2d_10 (Conv2D)             (None, 12, 16, 128)  295040      ['concatenate_1[0][0]']          \n",
      "                                                                                                  \n",
      " batch_normalization_10 (BatchN  (None, 12, 16, 128)  512        ['conv2d_10[0][0]']              \n",
      " ormalization)                                                                                    \n",
      "                                                                                                  \n",
      " conv2d_11 (Conv2D)             (None, 12, 16, 128)  147584      ['batch_normalization_10[0][0]'] \n",
      "                                                                                                  \n",
      " batch_normalization_11 (BatchN  (None, 12, 16, 128)  512        ['conv2d_11[0][0]']              \n",
      " ormalization)                                                                                    \n",
      "                                                                                                  \n"
     ]
    },
    {
     "name": "stdout",
     "output_type": "stream",
     "text": [
      " conv2d_transpose_2 (Conv2DTran  (None, 24, 32, 64)  73792       ['batch_normalization_11[0][0]'] \n",
      " spose)                                                                                           \n",
      "                                                                                                  \n",
      " concatenate_2 (Concatenate)    (None, 24, 32, 128)  0           ['batch_normalization_1[0][0]',  \n",
      "                                                                  'conv2d_transpose_2[0][0]']     \n",
      "                                                                                                  \n",
      " conv2d_12 (Conv2D)             (None, 24, 32, 64)   73792       ['concatenate_2[0][0]']          \n",
      "                                                                                                  \n",
      " batch_normalization_12 (BatchN  (None, 24, 32, 64)  256         ['conv2d_12[0][0]']              \n",
      " ormalization)                                                                                    \n",
      "                                                                                                  \n",
      " conv2d_13 (Conv2D)             (None, 24, 32, 64)   36928       ['batch_normalization_12[0][0]'] \n",
      "                                                                                                  \n",
      " batch_normalization_13 (BatchN  (None, 24, 32, 64)  256         ['conv2d_13[0][0]']              \n",
      " ormalization)                                                                                    \n",
      "                                                                                                  \n",
      " conv2d_14 (Conv2D)             (None, 24, 32, 32)   18464       ['batch_normalization_13[0][0]'] \n",
      "                                                                                                  \n",
      " batch_normalization_14 (BatchN  (None, 24, 32, 32)  128         ['conv2d_14[0][0]']              \n",
      " ormalization)                                                                                    \n",
      "                                                                                                  \n",
      " conv2d_15 (Conv2D)             (None, 24, 32, 16)   4624        ['batch_normalization_14[0][0]'] \n",
      "                                                                                                  \n",
      " batch_normalization_15 (BatchN  (None, 24, 32, 16)  64          ['conv2d_15[0][0]']              \n",
      " ormalization)                                                                                    \n",
      "                                                                                                  \n",
      " conv2d_16 (Conv2D)             (None, 24, 32, 2)    34          ['batch_normalization_15[0][0]'] \n",
      "                                                                                                  \n",
      "==================================================================================================\n",
      "Total params: 8,593,746\n",
      "Trainable params: 8,588,018\n",
      "Non-trainable params: 5,728\n",
      "__________________________________________________________________________________________________\n"
     ]
    }
   ],
   "source": [
    "height=24\n",
    "width=32\n",
    "\n",
    "\n",
    "model = unet(height, width)\n",
    "model.summary() "
   ]
  },
  {
   "cell_type": "code",
   "execution_count": 14,
   "id": "59b0e111",
   "metadata": {},
   "outputs": [],
   "source": [
    "Adam = optimizers.Adam()\n",
    "model.compile(optimizer=Adam, loss = 'binary_crossentropy', metrics = ['accuracy'])"
   ]
  },
  {
   "cell_type": "code",
   "execution_count": 15,
   "id": "88151c3f",
   "metadata": {},
   "outputs": [],
   "source": [
    "# 实例化自定义回调\n",
    "batch_loss_callback = BatchLossCallback()\n",
    "\n"
   ]
  },
  {
   "cell_type": "code",
   "execution_count": 17,
   "id": "d70864f3",
   "metadata": {},
   "outputs": [
    {
     "name": "stdout",
     "output_type": "stream",
     "text": [
      "Epoch 1/4\n",
      "36/36 [==============================] - 97s 3s/step - loss: 0.5919 - accuracy: 0.6129 - val_loss: 0.5605 - val_accuracy: 0.5718\n",
      "Epoch 2/4\n",
      "36/36 [==============================] - 55s 1s/step - loss: 0.5098 - accuracy: 0.6330 - val_loss: 0.4600 - val_accuracy: 0.6146\n",
      "Epoch 3/4\n",
      "36/36 [==============================] - 39s 1s/step - loss: 0.4222 - accuracy: 0.6381 - val_loss: 0.3925 - val_accuracy: 0.6232\n",
      "Epoch 4/4\n",
      "36/36 [==============================] - 69s 2s/step - loss: 0.3432 - accuracy: 0.6400 - val_loss: 0.3772 - val_accuracy: 0.5977\n"
     ]
    }
   ],
   "source": [
    "csv_logger = tf.keras.callbacks.CSVLogger('UNet_model/training_batch2.log')\n",
    "test_interval=int(0.1*len(data_traing_input_tf))\n",
    "history = model.fit(data_traing_input_tf_shuffle[:-test_interval], data_traing_label_tf_shuffle[:-test_interval],batch_size=200,verbose=1,\\\n",
    "                    epochs=4, validation_data=(data_traing_input_tf_shuffle[-test_interval:], data_traing_label_tf_shuffle[-test_interval:]),\\\n",
    "                    callbacks=[csv_logger,batch_loss_callback])"
   ]
  },
  {
   "cell_type": "code",
   "execution_count": 18,
   "id": "69735844",
   "metadata": {},
   "outputs": [
    {
     "data": {
      "text/plain": [
       "22"
      ]
     },
     "execution_count": 18,
     "metadata": {},
     "output_type": "execute_result"
    }
   ],
   "source": [
    "len(batch_loss_callback.val_batch_accuracy)"
   ]
  },
  {
   "cell_type": "code",
   "execution_count": 19,
   "id": "eaf9d934",
   "metadata": {},
   "outputs": [],
   "source": [
    "#np.save('batch_losses.txt',batch_loss_callback.batch_losses)\n",
    "f=open('loss_arrc_train.txt','w')\n",
    "for i in range(len(batch_loss_callback.train_batch_losses)):\n",
    "    f.write('%d %f %f\\n' %(i,batch_loss_callback.train_batch_losses[i],batch_loss_callback.train_batch_accuracy[i]))\n",
    "    \n",
    "#np.save('batch_losses.txt',batch_loss_callback.batch_losses)\n",
    "f=open('loss_arrc_test.txt','w')\n",
    "for i in range(len(batch_loss_callback.val_batch_losses)):\n",
    "    f.write('%d %f %f\\n' %(i,batch_loss_callback.val_batch_losses[i],batch_loss_callback.val_batch_accuracy[i]))\n",
    "    \n",
    "\n",
    "f=open('name_text.txt','w')\n",
    "for i in range(test_interval):\n",
    "    f.write('%s\\n' %filename[-test_interval+i])\n",
    "f.close()\n",
    "\n",
    "f=open('name_train.txt','w')\n",
    "for i in range(len(filename)-test_interval):\n",
    "    f.write('%s\\n' %filename[i])\n",
    "f.close()\n"
   ]
  },
  {
   "cell_type": "code",
   "execution_count": null,
   "id": "17beae89",
   "metadata": {},
   "outputs": [],
   "source": []
  },
  {
   "cell_type": "code",
   "execution_count": null,
   "id": "f4ce2988",
   "metadata": {},
   "outputs": [],
   "source": []
  },
  {
   "cell_type": "code",
   "execution_count": null,
   "id": "c0ccd31c",
   "metadata": {},
   "outputs": [],
   "source": []
  },
  {
   "cell_type": "code",
   "execution_count": null,
   "id": "eb1aa5dc",
   "metadata": {},
   "outputs": [],
   "source": []
  },
  {
   "cell_type": "code",
   "execution_count": 76,
   "id": "011007d1",
   "metadata": {},
   "outputs": [],
   "source": [
    "model.save_weights('UNet_model/FTEM.ckpt')\n",
    "model.save('UNet_model/FTEM.h5')\n",
    "\n"
   ]
  },
  {
   "cell_type": "code",
   "execution_count": 22,
   "id": "be3b673a",
   "metadata": {},
   "outputs": [
    {
     "name": "stdout",
     "output_type": "stream",
     "text": [
      "250/250 [==============================] - 100s 401ms/step\n"
     ]
    }
   ],
   "source": [
    "prediction = model.predict(data_traing_input_tf)"
   ]
  },
  {
   "cell_type": "code",
   "execution_count": 23,
   "id": "3dced70e",
   "metadata": {},
   "outputs": [],
   "source": [
    "np.save('prediction.npy', prediction)"
   ]
  },
  {
   "cell_type": "code",
   "execution_count": 26,
   "id": "afa74f8b",
   "metadata": {},
   "outputs": [
    {
     "data": {
      "text/plain": [
       "((8000, 24, 32, 2), (8000, 24, 32, 2))"
      ]
     },
     "execution_count": 26,
     "metadata": {},
     "output_type": "execute_result"
    }
   ],
   "source": [
    "prediction.shape,data_traing_label_tf.shape"
   ]
  },
  {
   "cell_type": "code",
   "execution_count": null,
   "id": "87a8dfe8",
   "metadata": {},
   "outputs": [],
   "source": []
  },
  {
   "cell_type": "code",
   "execution_count": 52,
   "id": "a2f11a8a",
   "metadata": {},
   "outputs": [
    {
     "data": {
      "text/plain": [
       "<matplotlib.colorbar.Colorbar at 0x229e5a9afd0>"
      ]
     },
     "execution_count": 52,
     "metadata": {},
     "output_type": "execute_result"
    },
    {
     "data": {
      "image/png": "[encoded data removed]",
      "text/plain": [
       "<Figure size 640x480 with 2 Axes>"
      ]
     },
     "metadata": {},
     "output_type": "display_data"
    }
   ],
   "source": [
    "plt.pcolor(data_traing_label_tf[-203,:,:,1])\n",
    "plt.clim(0,1)\n",
    "plt.colorbar()"
   ]
  },
  {
   "cell_type": "code",
   "execution_count": 53,
   "id": "89927ec4",
   "metadata": {},
   "outputs": [
    {
     "data": {
      "text/plain": [
       "<matplotlib.colorbar.Colorbar at 0x229e5b89850>"
      ]
     },
     "execution_count": 53,
     "metadata": {},
     "output_type": "execute_result"
    },
    {
     "data": {
      "image/png": "[encoded data removed]",
      "text/plain": [
       "<Figure size 640x480 with 2 Axes>"
      ]
     },
     "metadata": {},
     "output_type": "display_data"
    }
   ],
   "source": [
    "plt.pcolor(prediction[-203,:,:,1])\n",
    "plt.clim(0,1)\n",
    "plt.colorbar()"
   ]
  },
  {
   "cell_type": "code",
   "execution_count": null,
   "id": "dd4215c3",
   "metadata": {},
   "outputs": [],
   "source": []
  },
  {
   "cell_type": "code",
   "execution_count": null,
   "id": "f921c59d",
   "metadata": {},
   "outputs": [],
   "source": [
    "import pandas as pd\n",
    "import matplotlib.pyplot as plt\n",
    "\n",
    "df = pd.read_csv('UNet_model/training_batch.log')\n",
    "plt.plot(df['epoch'], df['loss'])\n",
    "plt.xlabel('Epoch')\n",
    "plt.ylabel('Loss')\n",
    "plt.show()"
   ]
  },
  {
   "cell_type": "code",
   "execution_count": null,
   "id": "89fd1d7d",
   "metadata": {},
   "outputs": [],
   "source": []
  }
 ],
 "metadata": {
  "kernelspec": {
   "display_name": "Python 3 (ipykernel)",
   "language": "python",
   "name": "python3"
  },
  "language_info": {
   "codemirror_mode": {
    "name": "ipython",
    "version": 3
   },
   "file_extension": ".py",
   "mimetype": "text/x-python",
   "name": "python",
   "nbconvert_exporter": "python",
   "pygments_lexer": "ipython3",
   "version": "3.8.16"
  }
 },
 "nbformat": 4,
 "nbformat_minor": 5
}
